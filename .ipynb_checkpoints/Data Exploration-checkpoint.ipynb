{
 "cells": [
  {
   "cell_type": "code",
   "execution_count": 1,
   "metadata": {
    "collapsed": true
   },
   "outputs": [],
   "source": [
    "#read the data\n",
    "import pandas as ps\n",
    "import numpy as np\n",
    "from sklearn.feature_extraction.text import TfidfVectorizer"
   ]
  },
  {
   "cell_type": "code",
   "execution_count": 2,
   "metadata": {},
   "outputs": [
    {
     "name": "stdout",
     "output_type": "stream",
     "text": [
      "   id                                              tweet         state  \\\n",
      "0   1                Jazz for a Rainy Afternoon:  {link}      oklahoma   \n",
      "1   2                   RT: @mention: I love rainy days.       florida   \n",
      "2   3  Good Morning Chicago! Time to kick the Windy C...         idaho   \n",
      "3   6  Preach lol! :) RT @mention: #alliwantis this t...     minnesota   \n",
      "4   9                     @mention good morning sunshine  rhode island   \n",
      "\n",
      "               location   s1   s2   s3     s4     s5     w1 ...    k6     k7  \\\n",
      "0              Oklahoma  0.0  0.0  1.0  0.000  0.000  0.800 ...   0.0  0.000   \n",
      "1  Miami-Ft. Lauderdale  0.0  0.0  0.0  1.000  0.000  0.196 ...   0.0  0.000   \n",
      "2                   NaN  0.0  0.0  0.0  0.000  1.000  0.000 ...   0.0  1.000   \n",
      "3  Minneapolis-St. Paul  0.0  0.0  0.0  1.000  0.000  1.000 ...   0.0  0.604   \n",
      "4             Purgatory  0.0  0.0  0.0  0.403  0.597  1.000 ...   0.0  0.000   \n",
      "\n",
      "    k8     k9  k10  k11  k12    k13  k14  k15  \n",
      "0  0.0  0.000  1.0  0.0  0.0  0.000  0.0  0.0  \n",
      "1  0.0  0.000  1.0  0.0  0.0  0.000  0.0  0.0  \n",
      "2  0.0  0.000  0.0  0.0  0.0  0.000  0.0  0.0  \n",
      "3  0.0  0.196  0.0  0.0  0.0  0.201  0.0  0.0  \n",
      "4  0.0  0.000  0.0  0.0  0.0  1.000  0.0  0.0  \n",
      "\n",
      "[5 rows x 28 columns]\n"
     ]
    }
   ],
   "source": [
    "paths = ['data/train.csv', 'data/test.csv']\n",
    "t = ps.read_csv(paths[0])\n",
    "t2 = ps.read_csv(paths[1])\n",
    "print (t.head())#display the data"
   ]
  },
  {
   "cell_type": "code",
   "execution_count": 14,
   "metadata": {
    "collapsed": true
   },
   "outputs": [],
   "source": [
    "tfidf = TfidfVectorizer(max_features=10000, strip_accents='unicode', analyzer='word')\n",
    "tfidf.fit(t['tweet'])\n",
    "X = tfidf.transform(t['tweet'])\n",
    "test = tfidf.transform(t2['tweet'])\n",
    "y = np.array(t.iloc[:,4:])"
   ]
  },
  {
   "cell_type": "code",
   "execution_count": 15,
   "metadata": {},
   "outputs": [
    {
     "name": "stdout",
     "output_type": "stream",
     "text": [
      "[[0.    0.    1.    ... 0.    0.    0.   ]\n",
      " [0.    0.    0.    ... 0.    0.    0.   ]\n",
      " [0.    0.    0.    ... 0.    0.    0.   ]\n",
      " ...\n",
      " [0.    0.    0.    ... 1.    0.    0.   ]\n",
      " [0.    0.385 0.41  ... 0.    0.    0.   ]\n",
      " [0.    0.202 0.395 ... 0.    0.    0.   ]]\n"
     ]
    }
   ],
   "source": [
    "print(y)"
   ]
  },
  {
   "cell_type": "code",
   "execution_count": null,
   "metadata": {
    "collapsed": true
   },
   "outputs": [],
   "source": []
  }
 ],
 "metadata": {
  "kernelspec": {
   "display_name": "Python 3",
   "language": "python",
   "name": "python3"
  },
  "language_info": {
   "codemirror_mode": {
    "name": "ipython",
    "version": 3
   },
   "file_extension": ".py",
   "mimetype": "text/x-python",
   "name": "python",
   "nbconvert_exporter": "python",
   "pygments_lexer": "ipython3",
   "version": "3.6.3"
  }
 },
 "nbformat": 4,
 "nbformat_minor": 2
}
