{
 "cells": [
  {
   "cell_type": "code",
   "execution_count": 32,
   "metadata": {},
   "outputs": [],
   "source": [
    "#read the data\n",
    "import pandas as ps\n",
    "import numpy as np\n",
    "from sklearn.feature_extraction.text import TfidfVectorizer\n",
    "from sklearn.ensemble import RandomForestRegressor\n",
    "from sklearn.linear_model import Ridge\n",
    "from sklearn.model_selection import cross_val_score, train_test_split, GridSearchCV\n",
    "from sklearn.metrics import mean_squared_error\n",
    "import math\n",
    "import nltk\n",
    "from collections import Counter\n",
    "from nltk.corpus import stopwords\n",
    "from nltk.stem import SnowballStemmer\n",
    "from nltk.tokenize import wordpunct_tokenize\n",
    "import re\n",
    "import numpy as np\n",
    "\n",
    "# nltk.download()\n"
   ]
  },
  {
   "cell_type": "code",
   "execution_count": 33,
   "metadata": {},
   "outputs": [
    {
     "data": {
      "text/html": [
       "<div>\n",
       "<style scoped>\n",
       "    .dataframe tbody tr th:only-of-type {\n",
       "        vertical-align: middle;\n",
       "    }\n",
       "\n",
       "    .dataframe tbody tr th {\n",
       "        vertical-align: top;\n",
       "    }\n",
       "\n",
       "    .dataframe thead th {\n",
       "        text-align: right;\n",
       "    }\n",
       "</style>\n",
       "<table border=\"1\" class=\"dataframe\">\n",
       "  <thead>\n",
       "    <tr style=\"text-align: right;\">\n",
       "      <th></th>\n",
       "      <th>id</th>\n",
       "      <th>tweet</th>\n",
       "      <th>state</th>\n",
       "      <th>location</th>\n",
       "    </tr>\n",
       "  </thead>\n",
       "  <tbody>\n",
       "    <tr>\n",
       "      <th>0</th>\n",
       "      <td>4</td>\n",
       "      <td>Edinburgh peeps is it sunny?? #weather</td>\n",
       "      <td>NaN</td>\n",
       "      <td>birmingham</td>\n",
       "    </tr>\n",
       "    <tr>\n",
       "      <th>1</th>\n",
       "      <td>5</td>\n",
       "      <td>SEEVERE T’STORM WARNING FOR TROUSDALE,  NORTHW...</td>\n",
       "      <td>NaN</td>\n",
       "      <td>Nashville</td>\n",
       "    </tr>\n",
       "    <tr>\n",
       "      <th>2</th>\n",
       "      <td>7</td>\n",
       "      <td>@Agilis1 sport or traditional climbing? Thats ...</td>\n",
       "      <td>NaN</td>\n",
       "      <td>Midwest</td>\n",
       "    </tr>\n",
       "    <tr>\n",
       "      <th>3</th>\n",
       "      <td>8</td>\n",
       "      <td>#WEATHER: 10:53 am : 63.0F. Feels 61F. 30.07% ...</td>\n",
       "      <td>tennessee</td>\n",
       "      <td>Nashville, TN, USA</td>\n",
       "    </tr>\n",
       "    <tr>\n",
       "      <th>4</th>\n",
       "      <td>12</td>\n",
       "      <td>We used to use umbrellas to face the bad weath...</td>\n",
       "      <td>NaN</td>\n",
       "      <td>Houston</td>\n",
       "    </tr>\n",
       "  </tbody>\n",
       "</table>\n",
       "</div>"
      ],
      "text/plain": [
       "   id                                              tweet      state  \\\n",
       "0   4             Edinburgh peeps is it sunny?? #weather        NaN   \n",
       "1   5  SEEVERE T’STORM WARNING FOR TROUSDALE,  NORTHW...        NaN   \n",
       "2   7  @Agilis1 sport or traditional climbing? Thats ...        NaN   \n",
       "3   8  #WEATHER: 10:53 am : 63.0F. Feels 61F. 30.07% ...  tennessee   \n",
       "4  12  We used to use umbrellas to face the bad weath...        NaN   \n",
       "\n",
       "             location  \n",
       "0          birmingham  \n",
       "1           Nashville  \n",
       "2             Midwest  \n",
       "3  Nashville, TN, USA  \n",
       "4             Houston  "
      ]
     },
     "execution_count": 33,
     "metadata": {},
     "output_type": "execute_result"
    }
   ],
   "source": [
    "train_path = 'data/train.csv'\n",
    "test_path = 'data/test.csv'\n",
    "\n",
    "train = ps.read_csv(train_path)\n",
    "test = ps.read_csv(test_path)\n",
    "\n",
    "test.head()"
   ]
  },
  {
   "cell_type": "code",
   "execution_count": 34,
   "metadata": {},
   "outputs": [],
   "source": [
    "### use twokenized data\n",
    "twokenized_train = ps.read_fwf('train_tokenized.txt',header=None)\n",
    "train['tweet'] = twokenized_train[0]\n",
    "twokenized_test = []\n",
    "twokenized_test = ps.read_fwf('ark-tweet-nlp-0.3.2/test_tokenized.txt',header=None)\n",
    "test['tweet'] = twokenized_test[0]\n",
    "\n",
    "#initialize stemmer\n",
    "stemmer = SnowballStemmer('english')\n",
    "### remove stopwords\n",
    "### don't know if this is useful when using ngrams\n",
    "ps.options.mode.chained_assignment = None\n",
    "stop_words = set(stopwords.words('english'))\n",
    "stop_words.add(\"rt\")\n",
    "stop_words.add(\"{\")\n",
    "stop_words.add(\"}\")\n",
    "stop_words.add(\"link\")\n",
    "stop_words.add(\"google\")\n",
    "stop_words.add(\"facebook\")\n",
    "stop_words.add(\"twitter\")\n",
    "for i in range(len(train['tweet'])):\n",
    "    train['tweet'][i] = [x.lower() for x in train['tweet'][i].split() if not x in stop_words] # to lower case\n",
    "    train['tweet'][i] = \" \".join(train['tweet'][i])\n",
    "    train['tweet'][i] = re.sub(r'(\\w)\\1{2,}', r'\\1\\1',train['tweet'][i])\n",
    "    train['tweet'][i] = stemmer.stem(train['tweet'][i])"
   ]
  },
  {
   "cell_type": "code",
   "execution_count": null,
   "metadata": {},
   "outputs": [],
   "source": []
  },
  {
   "cell_type": "code",
   "execution_count": 40,
   "metadata": {},
   "outputs": [
    {
     "name": "stdout",
     "output_type": "stream",
     "text": [
      "100              freakin killin audio ustream ! :/ freez\n",
      "101    it actually feel like memphis weather may ... ...\n",
      "102    and storms adore spring . need storm chasing @...\n",
      "103                          currently 73 degrees 7:45 .\n",
      "104    @mention good morning hope ur great day beauti...\n",
      "105    houston weather retire to texas one of the che...\n",
      "106    lool r u serious ?? confused chick rt @mention...\n",
      "107    ... cooler temperatures and unsettled weather ...\n",
      "108    i've checked weather forecast & still says bla...\n",
      "109    #weather : 4:50 pm : 55.0 f . feels 52f . 29.6...\n",
      "Name: tweet, dtype: object\n",
      "how hell weather change like ?\n"
     ]
    }
   ],
   "source": [
    "print(train['tweet'][100:110])\n",
    "print(stemmer.stem(train['tweet'][99]))"
   ]
  },
  {
   "cell_type": "code",
   "execution_count": 35,
   "metadata": {},
   "outputs": [
    {
     "data": {
      "text/plain": [
       "TfidfVectorizer(analyzer='word', binary=False, decode_error='strict',\n",
       "        dtype=<class 'numpy.int64'>, encoding='utf-8', input='content',\n",
       "        lowercase=True, max_df=1.0, max_features=10000, min_df=1,\n",
       "        ngram_range=(1, 7), norm='l2', preprocessor=None, smooth_idf=True,\n",
       "        stop_words=None, strip_accents='unicode', sublinear_tf=False,\n",
       "        token_pattern='(?u)\\\\b\\\\w\\\\w+\\\\b', tokenizer=None, use_idf=True,\n",
       "        vocabulary=None)"
      ]
     },
     "execution_count": 35,
     "metadata": {},
     "output_type": "execute_result"
    }
   ],
   "source": [
    "tfidf = TfidfVectorizer(max_features=10000, strip_accents='unicode', analyzer='word', ngram_range=(1, 7))\n",
    "tfidf.fit(train['tweet'])\n",
    "\n",
    "# tfidf.get_feature_names()"
   ]
  },
  {
   "cell_type": "code",
   "execution_count": 36,
   "metadata": {},
   "outputs": [
    {
     "name": "stdout",
     "output_type": "stream",
     "text": [
      "[[0.    0.    0.    ... 0.164 0.    0.   ]\n",
      " [0.195 0.    0.398 ... 0.401 0.    0.   ]\n",
      " [0.    0.805 0.195 ... 0.    0.    0.   ]\n",
      " ...\n",
      " [0.221 0.    0.    ... 0.    0.    0.   ]\n",
      " [0.    0.403 0.    ... 0.    0.    0.   ]\n",
      " [0.    1.    0.    ... 0.385 0.    0.   ]]\n"
     ]
    }
   ],
   "source": [
    "X = tfidf.transform(train['tweet'])\n",
    "y = np.array(train.iloc[:,4:])\n",
    "X_test = tfidf.transform(test['tweet'].values.astype('U')) \n",
    "\n",
    "X_train, X_val, y_train, y_val = train_test_split(X, y)\n",
    "\n",
    "print(y_train)"
   ]
  },
  {
   "cell_type": "markdown",
   "metadata": {},
   "source": [
    "# Random Forest"
   ]
  },
  {
   "cell_type": "code",
   "execution_count": 47,
   "metadata": {},
   "outputs": [],
   "source": [
    "clf = RandomForestRegressor()\n",
    "\n",
    "param_grid = {'max_depth': [None], 'min_samples_split' :[3, 10], 'min_samples_leaf' : [3, 10],\n",
    "              'criterion':['mse']}\n",
    "\n",
    "clf = GridSearchCV(clf, param_grid=param_grid, cv=2, verbose=4)"
   ]
  },
  {
   "cell_type": "code",
   "execution_count": 48,
   "metadata": {},
   "outputs": [
    {
     "name": "stdout",
     "output_type": "stream",
     "text": [
      "Fitting 2 folds for each of 4 candidates, totalling 8 fits\n",
      "[CV] criterion=mse, max_depth=None, min_samples_leaf=3, min_samples_split=3 \n",
      "[CV]  criterion=mse, max_depth=None, min_samples_leaf=3, min_samples_split=3, score=0.510582705260425, total=  40.4s\n",
      "[CV] criterion=mse, max_depth=None, min_samples_leaf=3, min_samples_split=3 \n"
     ]
    },
    {
     "name": "stderr",
     "output_type": "stream",
     "text": [
      "[Parallel(n_jobs=1)]: Done   1 out of   1 | elapsed:   40.6s remaining:    0.0s\n"
     ]
    },
    {
     "name": "stdout",
     "output_type": "stream",
     "text": [
      "[CV]  criterion=mse, max_depth=None, min_samples_leaf=3, min_samples_split=3, score=0.514413202634155, total=  40.1s\n",
      "[CV] criterion=mse, max_depth=None, min_samples_leaf=3, min_samples_split=10 \n"
     ]
    },
    {
     "name": "stderr",
     "output_type": "stream",
     "text": [
      "[Parallel(n_jobs=1)]: Done   2 out of   2 | elapsed:  1.3min remaining:    0.0s\n"
     ]
    },
    {
     "name": "stdout",
     "output_type": "stream",
     "text": [
      "[CV]  criterion=mse, max_depth=None, min_samples_leaf=3, min_samples_split=10, score=0.5191648494986347, total=  35.7s\n",
      "[CV] criterion=mse, max_depth=None, min_samples_leaf=3, min_samples_split=10 \n"
     ]
    },
    {
     "name": "stderr",
     "output_type": "stream",
     "text": [
      "[Parallel(n_jobs=1)]: Done   3 out of   3 | elapsed:  1.9min remaining:    0.0s\n"
     ]
    },
    {
     "name": "stdout",
     "output_type": "stream",
     "text": [
      "[CV]  criterion=mse, max_depth=None, min_samples_leaf=3, min_samples_split=10, score=0.5204157201319333, total=  36.5s\n",
      "[CV] criterion=mse, max_depth=None, min_samples_leaf=10, min_samples_split=3 \n",
      "[CV]  criterion=mse, max_depth=None, min_samples_leaf=10, min_samples_split=3, score=0.49900043369778674, total=  19.6s\n",
      "[CV] criterion=mse, max_depth=None, min_samples_leaf=10, min_samples_split=3 \n",
      "[CV]  criterion=mse, max_depth=None, min_samples_leaf=10, min_samples_split=3, score=0.5025388783991691, total=  19.0s\n",
      "[CV] criterion=mse, max_depth=None, min_samples_leaf=10, min_samples_split=10 \n",
      "[CV]  criterion=mse, max_depth=None, min_samples_leaf=10, min_samples_split=10, score=0.5004914024755611, total=  19.0s\n",
      "[CV] criterion=mse, max_depth=None, min_samples_leaf=10, min_samples_split=10 \n",
      "[CV]  criterion=mse, max_depth=None, min_samples_leaf=10, min_samples_split=10, score=0.5029997648783718, total=  18.9s\n"
     ]
    },
    {
     "name": "stderr",
     "output_type": "stream",
     "text": [
      "[Parallel(n_jobs=1)]: Done   8 out of   8 | elapsed:  3.9min finished\n"
     ]
    },
    {
     "data": {
      "text/plain": [
       "GridSearchCV(cv=2, error_score='raise',\n",
       "       estimator=RandomForestRegressor(bootstrap=True, criterion='mse', max_depth=None,\n",
       "           max_features='auto', max_leaf_nodes=None,\n",
       "           min_impurity_decrease=0.0, min_impurity_split=None,\n",
       "           min_samples_leaf=1, min_samples_split=2,\n",
       "           min_weight_fraction_leaf=0.0, n_estimators=10, n_jobs=1,\n",
       "           oob_score=False, random_state=None, verbose=0, warm_start=False),\n",
       "       fit_params=None, iid=True, n_jobs=1,\n",
       "       param_grid={'max_depth': [None], 'min_samples_split': [3, 10], 'min_samples_leaf': [3, 10], 'criterion': ['mse']},\n",
       "       pre_dispatch='2*n_jobs', refit=True, return_train_score='warn',\n",
       "       scoring=None, verbose=4)"
      ]
     },
     "execution_count": 48,
     "metadata": {},
     "output_type": "execute_result"
    }
   ],
   "source": [
    "clf.fit(X_train, y_train)"
   ]
  },
  {
   "cell_type": "code",
   "execution_count": 49,
   "metadata": {},
   "outputs": [],
   "source": [
    "y_pred = clf.predict(X_val)\n",
    "# Truncate predictions between 0 and 1\n",
    "y_pred[y_pred < 0] = 0\n",
    "y_pred[y_pred > 1] = 1"
   ]
  },
  {
   "cell_type": "code",
   "execution_count": 50,
   "metadata": {},
   "outputs": [
    {
     "data": {
      "text/plain": [
       "0.16860184158151342"
      ]
     },
     "execution_count": 50,
     "metadata": {},
     "output_type": "execute_result"
    }
   ],
   "source": [
    "rmse = math.sqrt(mean_squared_error(y_val, y_pred))\n",
    "rmse"
   ]
  },
  {
   "cell_type": "markdown",
   "metadata": {},
   "source": [
    "# XGBoost"
   ]
  },
  {
   "cell_type": "code",
   "execution_count": null,
   "metadata": {},
   "outputs": [],
   "source": [
    "from sklearn.multioutput import MultiOutputRegressor\n",
    "!pip install xgboost\n",
    "from xgboost import XGBRegressor"
   ]
  },
  {
   "cell_type": "code",
   "execution_count": null,
   "metadata": {},
   "outputs": [],
   "source": [
    "multioutputregressor = MultiOutputRegressor(XGBRegressor(objective='reg:linear')).fit(X_train, y_train)"
   ]
  },
  {
   "cell_type": "code",
   "execution_count": null,
   "metadata": {},
   "outputs": [],
   "source": [
    "mor_pred = multioutputregressor.predict(X_val)\n",
    "# Truncate\n",
    "mor_pred[mor_pred > 1] = 1\n",
    "mor_pred[mor_pred < 0] = 0"
   ]
  },
  {
   "cell_type": "code",
   "execution_count": null,
   "metadata": {},
   "outputs": [],
   "source": [
    "rmse = math.sqrt(mean_squared_error(y_val, mor_pred))\n",
    "rmse # 0.16388598799139095"
   ]
  },
  {
   "cell_type": "markdown",
   "metadata": {},
   "source": [
    "# Ridge Regression"
   ]
  },
  {
   "cell_type": "code",
   "execution_count": 51,
   "metadata": {},
   "outputs": [],
   "source": [
    "clf = Ridge()\n",
    "\n",
    "param_grid = {'alpha': [25, 10, 5, 2.5, 1, 0.75, 0.5, 0.25, 0.1, 0.05, 0.025, 0.01, 0.001]}\n",
    "\n",
    "clf = GridSearchCV(clf, param_grid=param_grid, cv=2, verbose=1)"
   ]
  },
  {
   "cell_type": "code",
   "execution_count": 52,
   "metadata": {},
   "outputs": [
    {
     "name": "stdout",
     "output_type": "stream",
     "text": [
      "Fitting 2 folds for each of 13 candidates, totalling 26 fits\n"
     ]
    },
    {
     "name": "stderr",
     "output_type": "stream",
     "text": [
      "[Parallel(n_jobs=1)]: Done  26 out of  26 | elapsed:  8.4min finished\n"
     ]
    },
    {
     "data": {
      "text/plain": [
       "GridSearchCV(cv=2, error_score='raise',\n",
       "       estimator=Ridge(alpha=1.0, copy_X=True, fit_intercept=True, max_iter=None,\n",
       "   normalize=False, random_state=None, solver='auto', tol=0.001),\n",
       "       fit_params=None, iid=True, n_jobs=1,\n",
       "       param_grid={'alpha': [25, 10, 5, 2.5, 1, 0.75, 0.5, 0.25, 0.1, 0.05, 0.025, 0.01, 0.001]},\n",
       "       pre_dispatch='2*n_jobs', refit=True, return_train_score='warn',\n",
       "       scoring=None, verbose=1)"
      ]
     },
     "execution_count": 52,
     "metadata": {},
     "output_type": "execute_result"
    }
   ],
   "source": [
    "clf.fit(X_train, y_train)"
   ]
  },
  {
   "cell_type": "code",
   "execution_count": 53,
   "metadata": {},
   "outputs": [],
   "source": [
    "y_pred = clf.predict(X_val)\n",
    "# Truncate predictions between 0 and 1\n",
    "y_pred[y_pred < 0] = 0\n",
    "y_pred[y_pred > 1] = 1"
   ]
  },
  {
   "cell_type": "code",
   "execution_count": 54,
   "metadata": {},
   "outputs": [
    {
     "data": {
      "text/plain": [
       "0.15631172322618572"
      ]
     },
     "execution_count": 54,
     "metadata": {},
     "output_type": "execute_result"
    }
   ],
   "source": [
    "rmse = math.sqrt(mean_squared_error(y_val, y_pred))\n",
    "rmse"
   ]
  },
  {
   "cell_type": "markdown",
   "metadata": {},
   "source": [
    "# Ensembling"
   ]
  },
  {
   "cell_type": "code",
   "execution_count": 41,
   "metadata": {},
   "outputs": [],
   "source": [
    "clf_ridge = Ridge()\n",
    "param_grid = {'alpha': [25, 10, 5, 2.5, 1, 0.75, 0.5, 0.25, 0.1, 0.05, 0.025, 0.01, 0.001]}\n",
    "clf_ridge = GridSearchCV(clf_ridge, param_grid=param_grid, cv=2, verbose=1)\n",
    "\n",
    "clf_RF = RandomForestRegressor()\n",
    "param_grid = {'max_depth': [None], 'min_samples_split' :[3, 10], 'min_samples_leaf' : [3, 10],\n",
    "              'criterion':['mse']}\n",
    "clf_RF = GridSearchCV(clf_RF, param_grid=param_grid, cv=2, verbose=4)\n"
   ]
  },
  {
   "cell_type": "code",
   "execution_count": 87,
   "metadata": {},
   "outputs": [
    {
     "name": "stdout",
     "output_type": "stream",
     "text": [
      "[0.    1.    0.    0.    0.    0.594 0.    0.406 0.    0.419 0.    0.\n",
      " 0.    0.    0.    0.196 0.    0.    0.    0.    0.    0.385 0.    0.   ]\n"
     ]
    }
   ],
   "source": [
    "# Split dataset for S, W and K classifications.\n",
    "y_train_S = y_train[:,0:5]\n",
    "y_train_W = y_train[:, 5:9]\n",
    "y_train_K = y_train[:, 9:23]\n",
    "print(y_train[-1])"
   ]
  },
  {
   "cell_type": "code",
   "execution_count": 140,
   "metadata": {},
   "outputs": [
    {
     "name": "stdout",
     "output_type": "stream",
     "text": [
      "[0. 0. 0. 0. 0. 0. 0. 0. 0. 0. 0. 0. 0. 0. 0.]\n"
     ]
    }
   ],
   "source": [
    "y_test_pred_ridge = np.zeros((19487,24))\n",
    "y_test_pred_RF = np.zeros((19487,24))\n",
    "print(y_test_pred_ridge[0,9:24])"
   ]
  },
  {
   "cell_type": "code",
   "execution_count": 141,
   "metadata": {},
   "outputs": [
    {
     "name": "stdout",
     "output_type": "stream",
     "text": [
      "Fitting 2 folds for each of 13 candidates, totalling 26 fits\n"
     ]
    },
    {
     "name": "stderr",
     "output_type": "stream",
     "text": [
      "[Parallel(n_jobs=1)]: Done  26 out of  26 | elapsed:  2.0min finished\n"
     ]
    },
    {
     "name": "stdout",
     "output_type": "stream",
     "text": [
      "ridge fitted\n",
      "Fitting 2 folds for each of 4 candidates, totalling 8 fits\n",
      "[CV] criterion=mse, max_depth=None, min_samples_leaf=3, min_samples_split=3 \n",
      "[CV]  criterion=mse, max_depth=None, min_samples_leaf=3, min_samples_split=3, score=0.4059736857908517, total=  40.4s\n",
      "[CV] criterion=mse, max_depth=None, min_samples_leaf=3, min_samples_split=3 \n"
     ]
    },
    {
     "name": "stderr",
     "output_type": "stream",
     "text": [
      "[Parallel(n_jobs=1)]: Done   1 out of   1 | elapsed:   40.5s remaining:    0.0s\n"
     ]
    },
    {
     "name": "stdout",
     "output_type": "stream",
     "text": [
      "[CV]  criterion=mse, max_depth=None, min_samples_leaf=3, min_samples_split=3, score=0.40371817204256816, total=  40.6s\n",
      "[CV] criterion=mse, max_depth=None, min_samples_leaf=3, min_samples_split=10 \n"
     ]
    },
    {
     "name": "stderr",
     "output_type": "stream",
     "text": [
      "[Parallel(n_jobs=1)]: Done   2 out of   2 | elapsed:  1.4min remaining:    0.0s\n"
     ]
    },
    {
     "name": "stdout",
     "output_type": "stream",
     "text": [
      "[CV]  criterion=mse, max_depth=None, min_samples_leaf=3, min_samples_split=10, score=0.4131521410958855, total=  36.5s\n",
      "[CV] criterion=mse, max_depth=None, min_samples_leaf=3, min_samples_split=10 \n"
     ]
    },
    {
     "name": "stderr",
     "output_type": "stream",
     "text": [
      "[Parallel(n_jobs=1)]: Done   3 out of   3 | elapsed:  2.0min remaining:    0.0s\n"
     ]
    },
    {
     "name": "stdout",
     "output_type": "stream",
     "text": [
      "[CV]  criterion=mse, max_depth=None, min_samples_leaf=3, min_samples_split=10, score=0.40752861539955976, total=  36.2s\n",
      "[CV] criterion=mse, max_depth=None, min_samples_leaf=10, min_samples_split=3 \n",
      "[CV]  criterion=mse, max_depth=None, min_samples_leaf=10, min_samples_split=3, score=0.4041527695166736, total=  19.9s\n",
      "[CV] criterion=mse, max_depth=None, min_samples_leaf=10, min_samples_split=3 \n",
      "[CV]  criterion=mse, max_depth=None, min_samples_leaf=10, min_samples_split=3, score=0.3983572113004251, total=  20.0s\n",
      "[CV] criterion=mse, max_depth=None, min_samples_leaf=10, min_samples_split=10 \n",
      "[CV]  criterion=mse, max_depth=None, min_samples_leaf=10, min_samples_split=10, score=0.39770622017789775, total=  20.0s\n",
      "[CV] criterion=mse, max_depth=None, min_samples_leaf=10, min_samples_split=10 \n",
      "[CV]  criterion=mse, max_depth=None, min_samples_leaf=10, min_samples_split=10, score=0.39855598214238186, total=  20.1s\n"
     ]
    },
    {
     "name": "stderr",
     "output_type": "stream",
     "text": [
      "[Parallel(n_jobs=1)]: Done   8 out of   8 | elapsed:  3.9min finished\n"
     ]
    },
    {
     "name": "stdout",
     "output_type": "stream",
     "text": [
      "RF fitted\n",
      "done\n"
     ]
    }
   ],
   "source": [
    "# Predict Sentiment\n",
    "clf_ridge.fit(X_train, y_train_S)\n",
    "print(\"ridge fitted\")\n",
    "clf_RF.fit(X_train, y_train_S)\n",
    "print(\"RF fitted\")\n",
    "y_pred_S_ridge = clf_ridge.predict(X_val)\n",
    "y_pred_S_RF = clf_RF.predict(X_val)\n",
    "# Truncate predictions between 0 and 1\n",
    "y_pred_S_ridge[y_pred_S_ridge < 0] = 0\n",
    "y_pred_S_ridge[y_pred_S_ridge > 1] = 1\n",
    "y_pred_S_RF[y_pred_S_RF < 0] = 0\n",
    "y_pred_S_RF[y_pred_S_RF > 1] = 1\n",
    "print(\"done\")\n",
    "y_test_pred_S_ridge = clf_ridge.predict(X_test)\n",
    "y_test_pred_S_RF = clf_RF.predict(X_test)"
   ]
  },
  {
   "cell_type": "code",
   "execution_count": 142,
   "metadata": {},
   "outputs": [
    {
     "name": "stdout",
     "output_type": "stream",
     "text": [
      "Fitting 2 folds for each of 13 candidates, totalling 26 fits\n"
     ]
    },
    {
     "name": "stderr",
     "output_type": "stream",
     "text": [
      "[Parallel(n_jobs=1)]: Done  26 out of  26 | elapsed:  1.8min finished\n"
     ]
    },
    {
     "name": "stdout",
     "output_type": "stream",
     "text": [
      "ridge fitted\n",
      "Fitting 2 folds for each of 4 candidates, totalling 8 fits\n",
      "[CV] criterion=mse, max_depth=None, min_samples_leaf=3, min_samples_split=3 \n",
      "[CV]  criterion=mse, max_depth=None, min_samples_leaf=3, min_samples_split=3, score=0.1843111848323681, total=  58.1s\n",
      "[CV] criterion=mse, max_depth=None, min_samples_leaf=3, min_samples_split=3 \n"
     ]
    },
    {
     "name": "stderr",
     "output_type": "stream",
     "text": [
      "[Parallel(n_jobs=1)]: Done   1 out of   1 | elapsed:   58.2s remaining:    0.0s\n"
     ]
    },
    {
     "name": "stdout",
     "output_type": "stream",
     "text": [
      "[CV]  criterion=mse, max_depth=None, min_samples_leaf=3, min_samples_split=3, score=0.18953630222562487, total=  56.8s\n",
      "[CV] criterion=mse, max_depth=None, min_samples_leaf=3, min_samples_split=10 \n"
     ]
    },
    {
     "name": "stderr",
     "output_type": "stream",
     "text": [
      "[Parallel(n_jobs=1)]: Done   2 out of   2 | elapsed:  1.9min remaining:    0.0s\n"
     ]
    },
    {
     "name": "stdout",
     "output_type": "stream",
     "text": [
      "[CV]  criterion=mse, max_depth=None, min_samples_leaf=3, min_samples_split=10, score=0.19723814668748896, total=  53.1s\n",
      "[CV] criterion=mse, max_depth=None, min_samples_leaf=3, min_samples_split=10 \n"
     ]
    },
    {
     "name": "stderr",
     "output_type": "stream",
     "text": [
      "[Parallel(n_jobs=1)]: Done   3 out of   3 | elapsed:  2.8min remaining:    0.0s\n"
     ]
    },
    {
     "name": "stdout",
     "output_type": "stream",
     "text": [
      "[CV]  criterion=mse, max_depth=None, min_samples_leaf=3, min_samples_split=10, score=0.1931316261868162, total=  52.3s\n",
      "[CV] criterion=mse, max_depth=None, min_samples_leaf=10, min_samples_split=3 \n",
      "[CV]  criterion=mse, max_depth=None, min_samples_leaf=10, min_samples_split=3, score=0.2066584019314611, total=  22.6s\n",
      "[CV] criterion=mse, max_depth=None, min_samples_leaf=10, min_samples_split=3 \n",
      "[CV]  criterion=mse, max_depth=None, min_samples_leaf=10, min_samples_split=3, score=0.20928723746345243, total=  20.4s\n",
      "[CV] criterion=mse, max_depth=None, min_samples_leaf=10, min_samples_split=10 \n",
      "[CV]  criterion=mse, max_depth=None, min_samples_leaf=10, min_samples_split=10, score=0.2044910598429621, total=  20.8s\n",
      "[CV] criterion=mse, max_depth=None, min_samples_leaf=10, min_samples_split=10 \n",
      "[CV]  criterion=mse, max_depth=None, min_samples_leaf=10, min_samples_split=10, score=0.20796112356711063, total=  20.1s\n"
     ]
    },
    {
     "name": "stderr",
     "output_type": "stream",
     "text": [
      "[Parallel(n_jobs=1)]: Done   8 out of   8 | elapsed:  5.1min finished\n"
     ]
    },
    {
     "name": "stdout",
     "output_type": "stream",
     "text": [
      "RF fitted\n",
      "done\n"
     ]
    }
   ],
   "source": [
    "# Predict When\n",
    "clf_ridge.fit(X_train, y_train_W)\n",
    "print(\"ridge fitted\")\n",
    "clf_RF.fit(X_train, y_train_W)\n",
    "print(\"RF fitted\")\n",
    "y_pred_W_ridge = clf_ridge.predict(X_val)\n",
    "y_pred_W_RF = clf_RF.predict(X_val)\n",
    "# Truncate predictions between 0 and 1\n",
    "y_pred_W_ridge[y_pred_W_ridge < 0] = 0\n",
    "y_pred_W_ridge[y_pred_W_ridge > 1] = 1\n",
    "y_pred_W_RF[y_pred_W_RF < 0] = 0\n",
    "y_pred_W_RF[y_pred_W_RF > 1] = 1\n",
    "print(\"done\")\n",
    "y_test_pred_W_ridge = clf_ridge.predict(X_test)\n",
    "y_test_pred_W_RF = clf_RF.predict(X_test)"
   ]
  },
  {
   "cell_type": "code",
   "execution_count": 143,
   "metadata": {},
   "outputs": [
    {
     "name": "stdout",
     "output_type": "stream",
     "text": [
      "Fitting 2 folds for each of 13 candidates, totalling 26 fits\n"
     ]
    },
    {
     "name": "stderr",
     "output_type": "stream",
     "text": [
      "[Parallel(n_jobs=1)]: Done  26 out of  26 | elapsed:  5.9min finished\n"
     ]
    },
    {
     "name": "stdout",
     "output_type": "stream",
     "text": [
      "ridge fitted\n",
      "Fitting 2 folds for each of 4 candidates, totalling 8 fits\n",
      "[CV] criterion=mse, max_depth=None, min_samples_leaf=3, min_samples_split=3 \n",
      "[CV]  criterion=mse, max_depth=None, min_samples_leaf=3, min_samples_split=3, score=0.7518378598511988, total= 1.1min\n",
      "[CV] criterion=mse, max_depth=None, min_samples_leaf=3, min_samples_split=3 \n"
     ]
    },
    {
     "name": "stderr",
     "output_type": "stream",
     "text": [
      "[Parallel(n_jobs=1)]: Done   1 out of   1 | elapsed:  1.1min remaining:    0.0s\n"
     ]
    },
    {
     "name": "stdout",
     "output_type": "stream",
     "text": [
      "[CV]  criterion=mse, max_depth=None, min_samples_leaf=3, min_samples_split=3, score=0.7537868818743102, total= 1.2min\n",
      "[CV] criterion=mse, max_depth=None, min_samples_leaf=3, min_samples_split=10 \n"
     ]
    },
    {
     "name": "stderr",
     "output_type": "stream",
     "text": [
      "[Parallel(n_jobs=1)]: Done   2 out of   2 | elapsed:  2.4min remaining:    0.0s\n"
     ]
    },
    {
     "name": "stdout",
     "output_type": "stream",
     "text": [
      "[CV]  criterion=mse, max_depth=None, min_samples_leaf=3, min_samples_split=10, score=0.7540695115553611, total= 1.1min\n",
      "[CV] criterion=mse, max_depth=None, min_samples_leaf=3, min_samples_split=10 \n"
     ]
    },
    {
     "name": "stderr",
     "output_type": "stream",
     "text": [
      "[Parallel(n_jobs=1)]: Done   3 out of   3 | elapsed:  3.4min remaining:    0.0s\n"
     ]
    },
    {
     "name": "stdout",
     "output_type": "stream",
     "text": [
      "[CV]  criterion=mse, max_depth=None, min_samples_leaf=3, min_samples_split=10, score=0.7549869580651929, total= 1.1min\n",
      "[CV] criterion=mse, max_depth=None, min_samples_leaf=10, min_samples_split=3 \n",
      "[CV]  criterion=mse, max_depth=None, min_samples_leaf=10, min_samples_split=3, score=0.7343576615901192, total=  26.4s\n",
      "[CV] criterion=mse, max_depth=None, min_samples_leaf=10, min_samples_split=3 \n",
      "[CV]  criterion=mse, max_depth=None, min_samples_leaf=10, min_samples_split=3, score=0.7321948030353026, total=  27.2s\n",
      "[CV] criterion=mse, max_depth=None, min_samples_leaf=10, min_samples_split=10 \n",
      "[CV]  criterion=mse, max_depth=None, min_samples_leaf=10, min_samples_split=10, score=0.7343894128169036, total=  29.4s\n",
      "[CV] criterion=mse, max_depth=None, min_samples_leaf=10, min_samples_split=10 \n",
      "[CV]  criterion=mse, max_depth=None, min_samples_leaf=10, min_samples_split=10, score=0.7320210712161411, total=  27.5s\n"
     ]
    },
    {
     "name": "stderr",
     "output_type": "stream",
     "text": [
      "[Parallel(n_jobs=1)]: Done   8 out of   8 | elapsed:  6.4min finished\n"
     ]
    },
    {
     "name": "stdout",
     "output_type": "stream",
     "text": [
      "RF fitted\n",
      "done\n"
     ]
    }
   ],
   "source": [
    "# Predict Kind\n",
    "clf_ridge.fit(X_train, y_train_K)\n",
    "print(\"ridge fitted\")\n",
    "clf_RF.fit(X_train, y_train_K)\n",
    "print(\"RF fitted\")\n",
    "y_pred_K_ridge = clf_ridge.predict(X_val)\n",
    "y_pred_K_RF = clf_RF.predict(X_val)\n",
    "# Truncate predictions between 0 and 1\n",
    "y_pred_K_ridge[y_pred_K_ridge < 0] = 0\n",
    "y_pred_K_ridge[y_pred_K_ridge > 1] = 1\n",
    "y_pred_K_RF[y_pred_K_RF < 0] = 0\n",
    "y_pred_K_RF[y_pred_K_RF > 1] = 1\n",
    "print(\"done\")\n",
    "y_test_pred_K_ridge = clf_ridge.predict(X_test)\n",
    "y_test_pred_K_RF = clf_RF.predict(X_test)"
   ]
  },
  {
   "cell_type": "code",
   "execution_count": 147,
   "metadata": {},
   "outputs": [],
   "source": [
    "# Ensemble\n",
    "y_pred_ridge = np.zeros((19487,24))\n",
    "y_pred_RF = np.zeros((19487,24))\n",
    "y_test_pred_ridge = np.zeros((42157,24))\n",
    "y_test_pred_RF = np.zeros((42157,24))\n",
    "\n",
    "y_pred_ridge[:,0:5] = y_pred_S_ridge[:]\n",
    "y_pred_ridge[:,5:9] = y_pred_W_ridge[:]\n",
    "y_pred_ridge[:,9:23] = y_pred_K_ridge[:]\n",
    "\n",
    "y_pred_RF[:,0:5] = y_pred_S_RF[:]\n",
    "y_pred_RF[:,5:9] = y_pred_W_RF[:]\n",
    "y_pred_RF[:,9:23] = y_pred_K_RF[:]\n",
    "\n",
    "y_test_pred_ridge[:,0:5] = y_test_pred_S_ridge\n",
    "y_test_pred_ridge[:,0:5] = y_test_pred_S_RF\n",
    "y_test_pred_ridge[:,5:9] = y_test_pred_W_ridge\n",
    "y_test_pred_RF[:,5:9] = y_test_pred_W_RF\n",
    "y_test_pred_RF[:,9:23] =  y_test_pred_K_ridge\n",
    "y_test_pred_RF[:,9:23] = y_test_pred_K_RF"
   ]
  },
  {
   "cell_type": "code",
   "execution_count": 138,
   "metadata": {},
   "outputs": [
    {
     "data": {
      "text/plain": [
       "array([[0.],\n",
       "       [0.],\n",
       "       [0.],\n",
       "       ...,\n",
       "       [0.],\n",
       "       [0.],\n",
       "       [0.]])"
      ]
     },
     "execution_count": 138,
     "metadata": {},
     "output_type": "execute_result"
    }
   ],
   "source": [
    "y_pred_ridge[:,23:24]"
   ]
  },
  {
   "cell_type": "code",
   "execution_count": 148,
   "metadata": {},
   "outputs": [
    {
     "name": "stdout",
     "output_type": "stream",
     "text": [
      "0.20409017681571628\n",
      "0.22804290305238648\n",
      "0.21265023445598658\n",
      "0.22818285555257786\n",
      "0.11707918030017124\n",
      "0.11087441911914263\n",
      "0.16100137725380315\n",
      "0.16850520227523094\n"
     ]
    }
   ],
   "source": [
    "rmse_ridge = math.sqrt(mean_squared_error(y_val, y_pred_ridge))\n",
    "rmse_RF= math.sqrt(mean_squared_error(y_val, y_pred_RF))\n",
    "\n",
    "rmse_ridge_S = math.sqrt(mean_squared_error(y_val[:,0:5], y_pred_S_ridge))\n",
    "rmse_RF_S = math.sqrt(mean_squared_error(y_val[:,0:5], y_pred_S_RF))\n",
    "rmse_ridge_W = math.sqrt(mean_squared_error(y_val[:,5:9], y_pred_W_ridge))\n",
    "rmse_RF_W = math.sqrt(mean_squared_error(y_val[:,5:9], y_pred_W_RF))\n",
    "rmse_ridge_K = math.sqrt(mean_squared_error(y_val[:,9:23], y_pred_K_ridge))\n",
    "rmse_RF_K = math.sqrt(mean_squared_error(y_val[:,9:23], y_pred_K_RF))\n",
    "\n",
    "print(rmse_ridge_S)\n",
    "print(rmse_RF_S)\n",
    "print(rmse_ridge_W)\n",
    "print(rmse_RF_W)\n",
    "print(rmse_ridge_K)\n",
    "print(rmse_RF_K)\n",
    "print(rmse_ridge)\n",
    "print(rmse_RF)"
   ]
  },
  {
   "cell_type": "code",
   "execution_count": 150,
   "metadata": {},
   "outputs": [],
   "source": [
    "#Test trunc\n",
    "y_test_pred_RF[y_test_pred_RF < 0] = 0\n",
    "y_test_pred_RF[y_test_pred_RF > 1] = 1\n",
    "y_test_pred_ridge[y_test_pred_ridge < 0] = 0\n",
    "y_test_pred_ridge[y_test_pred_ridge > 1] = 1\n",
    "# Ensemble best test\n",
    "ensemble_test_pred = np.zeros((42157,24))\n",
    "ensemble_test_pred[:,0:9] = y_test_pred_ridge[:,0:9]\n",
    "ensemble_test_pred[:,9:24] = y_test_pred_RF[:,9:24]\n",
    "\n"
   ]
  },
  {
   "cell_type": "code",
   "execution_count": 125,
   "metadata": {},
   "outputs": [],
   "source": [
    "#don't run, override\n",
    "#y_test_pred_ridge = np.zeros((19487,24))\n",
    "#y_test_pred_RF = np.zeros((19487,24))\n",
    "\n",
    "#y_test_pred_ridge[:,0:5] = y_pred_S_ridge[:]\n",
    "#y_test_pred_ridge[:,5:9] = y_pred_W_ridge[:]\n",
    "#y_test_pred_ridge[:,9:23] = y_pred_K_ridge[:]\n",
    "\n",
    "#y_test_pred_RF[:,0:5] = y_pred_S_RF[:]\n",
    "#y_test_pred_RF[:,5:9] = y_pred_W_RF[:]\n",
    "#y_test_pred_RF[:,9:23] = y_pred_K_RF[:]"
   ]
  },
  {
   "cell_type": "code",
   "execution_count": 151,
   "metadata": {},
   "outputs": [],
   "source": [
    "#ridge\n",
    "prediction = np.array(np.hstack([np.matrix(test['id']).T, y_test_pred_ridge])) \n",
    "col = '%i,' + '%f,'*23 + '%f'\n",
    "np.savetxt('data/output_ridge.txt', prediction,col, delimiter=',')\n",
    "#RF\n",
    "prediction = np.array(np.hstack([np.matrix(test['id']).T, y_test_pred_RF])) \n",
    "col = '%i,' + '%f,'*23 + '%f'\n",
    "np.savetxt('data/output_RF.txt', prediction,col, delimiter=',')\n",
    "#Ensemble\n",
    "prediction = np.array(np.hstack([np.matrix(test['id']).T, ensemble_test_pred])) \n",
    "col = '%i,' + '%f,'*23 + '%f'\n",
    "np.savetxt('data/output_ensemble.txt', prediction,col, delimiter=',')"
   ]
  },
  {
   "cell_type": "markdown",
   "metadata": {},
   "source": [
    "# Test Submission"
   ]
  },
  {
   "cell_type": "code",
   "execution_count": 122,
   "metadata": {},
   "outputs": [
    {
     "ename": "NameError",
     "evalue": "name 'clf' is not defined",
     "output_type": "error",
     "traceback": [
      "\u001b[1;31m---------------------------------------------------------------------------\u001b[0m",
      "\u001b[1;31mNameError\u001b[0m                                 Traceback (most recent call last)",
      "\u001b[1;32m<ipython-input-122-d3319d52a642>\u001b[0m in \u001b[0;36m<module>\u001b[1;34m()\u001b[0m\n\u001b[1;32m----> 1\u001b[1;33m \u001b[0mtest_prediction\u001b[0m \u001b[1;33m=\u001b[0m \u001b[0mclf\u001b[0m\u001b[1;33m.\u001b[0m\u001b[0mpredict\u001b[0m\u001b[1;33m(\u001b[0m\u001b[0mX_test\u001b[0m\u001b[1;33m)\u001b[0m\u001b[1;33m\u001b[0m\u001b[0m\n\u001b[0m\u001b[0;32m      2\u001b[0m \u001b[1;31m# Truncate predictions between 0 and 1\u001b[0m\u001b[1;33m\u001b[0m\u001b[1;33m\u001b[0m\u001b[0m\n\u001b[0;32m      3\u001b[0m \u001b[0mtest_prediction\u001b[0m\u001b[1;33m[\u001b[0m\u001b[0mtest_prediction\u001b[0m \u001b[1;33m<\u001b[0m \u001b[1;36m0\u001b[0m\u001b[1;33m]\u001b[0m \u001b[1;33m=\u001b[0m \u001b[1;36m0\u001b[0m\u001b[1;33m\u001b[0m\u001b[0m\n\u001b[0;32m      4\u001b[0m \u001b[0mtest_prediction\u001b[0m\u001b[1;33m[\u001b[0m\u001b[0mtest_prediction\u001b[0m \u001b[1;33m>\u001b[0m \u001b[1;36m1\u001b[0m\u001b[1;33m]\u001b[0m \u001b[1;33m=\u001b[0m \u001b[1;36m1\u001b[0m\u001b[1;33m\u001b[0m\u001b[0m\n",
      "\u001b[1;31mNameError\u001b[0m: name 'clf' is not defined"
     ]
    }
   ],
   "source": [
    "test_prediction = clf.predict(X_test)\n",
    "# Truncate predictions between 0 and 1\n",
    "test_prediction[test_prediction < 0] = 0\n",
    "test_prediction[test_prediction > 1] = 1"
   ]
  },
  {
   "cell_type": "code",
   "execution_count": 16,
   "metadata": {},
   "outputs": [],
   "source": [
    "prediction = np.array(np.hstack([np.matrix(test['id']).T, test_prediction])) \n",
    "col = '%i,' + '%f,'*23 + '%f'\n",
    "np.savetxt('data/output.txt', prediction,col, delimiter=',')"
   ]
  },
  {
   "cell_type": "code",
   "execution_count": 17,
   "metadata": {},
   "outputs": [
    {
     "name": "stdout",
     "output_type": "stream",
     "text": [
      "Train error: 0.14432603441695394\n"
     ]
    }
   ],
   "source": [
    "print('Train error: {0}'.format(np.sqrt(np.sum(np.array(np.array(clf.predict(X))-y)**2)/ (X.shape[0]*24.0))))\n",
    "\n"
   ]
  },
  {
   "cell_type": "code",
   "execution_count": null,
   "metadata": {},
   "outputs": [],
   "source": []
  }
 ],
 "metadata": {
  "kernelspec": {
   "display_name": "Python 3",
   "language": "python",
   "name": "python3"
  },
  "language_info": {
   "codemirror_mode": {
    "name": "ipython",
    "version": 3
   },
   "file_extension": ".py",
   "mimetype": "text/x-python",
   "name": "python",
   "nbconvert_exporter": "python",
   "pygments_lexer": "ipython3",
   "version": "3.6.4"
  }
 },
 "nbformat": 4,
 "nbformat_minor": 2
}
